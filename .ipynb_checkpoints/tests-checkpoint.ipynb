{
 "cells": [
  {
   "cell_type": "code",
   "execution_count": 12,
   "metadata": {},
   "outputs": [],
   "source": [
    "#!/usr/bin/env python\n",
    "# encoding=utf-8"
   ]
  },
  {
   "cell_type": "code",
   "execution_count": 84,
   "metadata": {},
   "outputs": [],
   "source": [
    "from selenium import webdriver\n",
    "from selenium.webdriver.support.wait import WebDriverWait\n",
    "import time\n",
    "import requests\n",
    "from selenium.webdriver.support import expected_conditions as EC\n",
    "from selenium.webdriver.common.by import By \n",
    "import os"
   ]
  },
  {
   "cell_type": "code",
   "execution_count": 71,
   "metadata": {},
   "outputs": [],
   "source": [
    "#加载浏览器\n",
    "driver=webdriver.Chrome(executable_path=\"/Library/chromedriver\")\n",
    "#driver.PhantomJS(executable_path=\"/Library/phantomjs-2.1.1-macosx/bin/phantomjs\")"
   ]
  },
  {
   "cell_type": "code",
   "execution_count": 72,
   "metadata": {},
   "outputs": [],
   "source": [
    "#打开选取的省份（北京、安徽、陕西）\n",
    "URL=[\"https://www.mafengwo.cn/jd/10065/gonglve.html\",\n",
    "    \"https://www.mafengwo.cn/jd/12719/gonglve.html\",\n",
    "    \"https://www.mafengwo.cn/jd/13083/gonglve.html\"]\n",
    "driver.get(URL[0])"
   ]
  },
  {
   "cell_type": "code",
   "execution_count": 73,
   "metadata": {},
   "outputs": [],
   "source": [
    "#打开景点\n",
    "time.sleep(1.5)\n",
    "pois=driver.find_elements_by_class_name(\"rev-total\")\n",
    "pois[0].click()"
   ]
  },
  {
   "cell_type": "code",
   "execution_count": 74,
   "metadata": {},
   "outputs": [],
   "source": [
    "#打开获取景点图片页URL\n",
    "driver.switch_to.window(driver.window_handles[1])\n",
    "ss=driver.current_url"
   ]
  },
  {
   "cell_type": "code",
   "execution_count": 75,
   "metadata": {},
   "outputs": [],
   "source": [
    "url=ss[0:24]+'photo/'+ss[24:]\n",
    "driver.get(url)"
   ]
  },
  {
   "cell_type": "code",
   "execution_count": 77,
   "metadata": {},
   "outputs": [],
   "source": [
    "#打开大图\n",
    "time.sleep(1.5)\n",
    "driver.find_element_by_class_name(\"a-pic\").click()\n",
    "driver.switch_to.window(driver.window_handles[2])"
   ]
  },
  {
   "cell_type": "code",
   "execution_count": 93,
   "metadata": {},
   "outputs": [],
   "source": [
    "#保存图片函数\n",
    "def saveImg(pic_link, x):\n",
    "    path = \"/Users/terrensou/Documents/大二下/web技术及数据获取与处理实训/实训作业/docs/pic/beijing/\"\n",
    "    if not os.path.exists(path):\n",
    "        os.makedirs(path)\n",
    "    pp = requests.get(pic_link)\n",
    "    pth = path + str(x) + \".png\"\n",
    "    with open(pth, \"wb\") as f:\n",
    "        for chunk in pp:\n",
    "            f.write(chunk)\n",
    "    print(\"第%s张下载完成\" % x)"
   ]
  },
  {
   "cell_type": "code",
   "execution_count": 104,
   "metadata": {},
   "outputs": [
    {
     "name": "stdout",
     "output_type": "stream",
     "text": [
      "https://n1-q.mafengwo.net/s12/M00/37/05/wKgED1vN30-AP3EdAAhmMYBv9YI45.jpeg?imageMogr2%2Fthumbnail%2F%21690x450r%2Fgravity%2FCenter%2Fcrop%2F%21690x450%2Fquality%2F90%7Cwatermark%2F1%2Fimage%2FaHR0cHM6Ly9iMS1xLm1hZmVuZ3dvLm5ldC9zMTEvTTAwLzQ0LzlCL3dLZ0JFRnNQNVJ5QUR2N3BBQUFIWlpVUFJsUTk5MC5wbmc%3D%2Fgravity%2FSouthEast%2Fdx%2F10%2Fdy%2F11\n",
      "第1张下载完成\n",
      "https://n1-q.mafengwo.net/s1/M00/6F/50/wKgIC1xWmuKAIRc8ABvON1lfBS461.jpeg?imageMogr2%2Fthumbnail%2F%21690x450r%2Fgravity%2FCenter%2Fcrop%2F%21690x450%2Fquality%2F90%7Cwatermark%2F1%2Fimage%2FaHR0cHM6Ly9iMS1xLm1hZmVuZ3dvLm5ldC9zMTEvTTAwLzQ0LzlCL3dLZ0JFRnNQNVJ5QUR2N3BBQUFIWlpVUFJsUTk5MC5wbmc%3D%2Fgravity%2FSouthEast%2Fdx%2F10%2Fdy%2F11\n",
      "第2张下载完成\n",
      "https://p1-q.mafengwo.net/s1/M00/7D/B6/wKgIC1xW5xaAKsinAB0M13yEgXY21.jpeg?imageMogr2%2Fthumbnail%2F%21690x450r%2Fgravity%2FCenter%2Fcrop%2F%21690x450%2Fquality%2F90%7Cwatermark%2F1%2Fimage%2FaHR0cHM6Ly9iMS1xLm1hZmVuZ3dvLm5ldC9zMTEvTTAwLzQ0LzlCL3dLZ0JFRnNQNVJ5QUR2N3BBQUFIWlpVUFJsUTk5MC5wbmc%3D%2Fgravity%2FSouthEast%2Fdx%2F10%2Fdy%2F11\n",
      "第3张下载完成\n",
      "https://n1-q.mafengwo.net/s12/M00/8F/73/wKgED1xRJDyARKKxADeIYfCRll807.jpeg?imageMogr2%2Fthumbnail%2F%21690x450r%2Fgravity%2FCenter%2Fcrop%2F%21690x450%2Fquality%2F90%7Cwatermark%2F1%2Fimage%2FaHR0cHM6Ly9iMS1xLm1hZmVuZ3dvLm5ldC9zMTEvTTAwLzQ0LzlCL3dLZ0JFRnNQNVJ5QUR2N3BBQUFIWlpVUFJsUTk5MC5wbmc%3D%2Fgravity%2FSouthEast%2Fdx%2F10%2Fdy%2F11\n",
      "第4张下载完成\n",
      "https://n1-q.mafengwo.net/s12/M00/75/77/wKgED1uVy0WAcWbqAEEIth2Y57k94.jpeg?imageMogr2%2Fthumbnail%2F%21690x450r%2Fgravity%2FCenter%2Fcrop%2F%21690x450%2Fquality%2F90%7Cwatermark%2F1%2Fimage%2FaHR0cHM6Ly9iMS1xLm1hZmVuZ3dvLm5ldC9zMTEvTTAwLzQ0LzlCL3dLZ0JFRnNQNVJ5QUR2N3BBQUFIWlpVUFJsUTk5MC5wbmc%3D%2Fgravity%2FSouthEast%2Fdx%2F10%2Fdy%2F11\n",
      "第5张下载完成\n",
      "https://n1-q.mafengwo.net/s12/M00/75/72/wKgED1uVy0OAYlh0AD5JymJgOHk32.jpeg?imageMogr2%2Fthumbnail%2F%21690x450r%2Fgravity%2FCenter%2Fcrop%2F%21690x450%2Fquality%2F90%7Cwatermark%2F1%2Fimage%2FaHR0cHM6Ly9iMS1xLm1hZmVuZ3dvLm5ldC9zMTEvTTAwLzQ0LzlCL3dLZ0JFRnNQNVJ5QUR2N3BBQUFIWlpVUFJsUTk5MC5wbmc%3D%2Fgravity%2FSouthEast%2Fdx%2F10%2Fdy%2F11\n",
      "第6张下载完成\n",
      "https://b1-q.mafengwo.net/s13/M00/40/75/wKgEaVxqgDGAIjXoAEcv756ILMo26.jpeg?imageMogr2%2Fthumbnail%2F%21690x450r%2Fgravity%2FCenter%2Fcrop%2F%21690x450%2Fquality%2F90%7Cwatermark%2F1%2Fimage%2FaHR0cHM6Ly9iMS1xLm1hZmVuZ3dvLm5ldC9zMTEvTTAwLzQ0LzlCL3dLZ0JFRnNQNVJ5QUR2N3BBQUFIWlpVUFJsUTk5MC5wbmc%3D%2Fgravity%2FSouthEast%2Fdx%2F10%2Fdy%2F11\n",
      "第7张下载完成\n",
      "https://b1-q.mafengwo.net/s12/M00/1C/89/wKgED1vUFtWAZvtjAAWDuK8IGOY65.jpeg?imageMogr2%2Fthumbnail%2F%21690x450r%2Fgravity%2FCenter%2Fcrop%2F%21690x450%2Fquality%2F90%7Cwatermark%2F1%2Fimage%2FaHR0cHM6Ly9iMS1xLm1hZmVuZ3dvLm5ldC9zMTEvTTAwLzQ0LzlCL3dLZ0JFRnNQNVJ5QUR2N3BBQUFIWlpVUFJsUTk5MC5wbmc%3D%2Fgravity%2FSouthEast%2Fdx%2F10%2Fdy%2F11\n",
      "第8张下载完成\n",
      "https://n1-q.mafengwo.net/s11/M00/FE/B6/wKgBEFtfkASAG_AYABs6sJQ6qxw62.jpeg?imageMogr2%2Fthumbnail%2F%21690x450r%2Fgravity%2FCenter%2Fcrop%2F%21690x450%2Fquality%2F90%7Cwatermark%2F1%2Fimage%2FaHR0cHM6Ly9iMS1xLm1hZmVuZ3dvLm5ldC9zMTEvTTAwLzQ0LzlCL3dLZ0JFRnNQNVJ5QUR2N3BBQUFIWlpVUFJsUTk5MC5wbmc%3D%2Fgravity%2FSouthEast%2Fdx%2F10%2Fdy%2F11\n",
      "第9张下载完成\n"
     ]
    }
   ],
   "source": [
    "#下载前9张大图\n",
    "for i in range(1,10): \n",
    "    try:\n",
    "        WebDriverWait(driver, 10).until(lambda x: x.find_element_by_class_name(\"s-pic\"))\n",
    "    except:\n",
    "        print(\"加载图片超时\")\n",
    "    try:\n",
    "        WebDriverWait(driver, 10).until(EC.visibility_of_element_located((By.CLASS_NAME,(\"s-next\"))))\n",
    "    except:\n",
    "        print(\"寻找下一张图片超时\")\n",
    "    driver.find_element_by_class_name(\"s-next\").click()\n",
    "    posi=driver.find_element_by_xpath('//*[@id=\"_j_stageimg\"]').get_attribute('src')\n",
    "    try:\n",
    "        saveImg(posi,i)\n",
    "    except:\n",
    "        print(\"图片保存失败\")"
   ]
  },
  {
   "cell_type": "code",
   "execution_count": 96,
   "metadata": {},
   "outputs": [
    {
     "name": "stdout",
     "output_type": "stream",
     "text": [
      "https://n1-q.mafengwo.net/s11/M00/FE/B6/wKgBEFtfkASAG_AYABs6sJQ6qxw62.jpeg?imageMogr2%2Fthumbnail%2F%21690x450r%2Fgravity%2FCenter%2Fcrop%2F%21690x450%2Fquality%2F90%7Cwatermark%2F1%2Fimage%2FaHR0cHM6Ly9iMS1xLm1hZmVuZ3dvLm5ldC9zMTEvTTAwLzQ0LzlCL3dLZ0JFRnNQNVJ5QUR2N3BBQUFIWlpVUFJsUTk5MC5wbmc%3D%2Fgravity%2FSouthEast%2Fdx%2F10%2Fdy%2F11\n"
     ]
    }
   ],
   "source": [
    "posi=driver.find_element_by_class_name(\"s-pic\").get_attribute('src')\n",
    "print(posi)"
   ]
  },
  {
   "cell_type": "code",
   "execution_count": 109,
   "metadata": {},
   "outputs": [
    {
     "name": "stdout",
     "output_type": "stream",
     "text": [
      "/Users/terrensou/Documents/大二下/web技术及数据获取与处理实训/实训作业\n",
      "/Users/terrensou/Documents/大二下/web技术及数据获取与处理实训/实训作业/test_case/\n"
     ]
    }
   ],
   "source": [
    "root_dir = os.path.dirname(os.path.abspath('.'))\n",
    "case_dir = root_dir + '/test_case/'\n",
    "print(root_dir)\n",
    "print(case_dir)"
   ]
  },
  {
   "cell_type": "code",
   "execution_count": 4,
   "metadata": {},
   "outputs": [],
   "source": [
    "#打开马蜂窝，搜索相应地点\n",
    "driver.get(\"https://www.mafengwo.cn/\")\n",
    "time.sleep(1.5)\n",
    "driver.find_element_by_id(\"_j_index_search_input_all\").send_keys('北京')\n",
    "driver.find_element_by_id(\"_j_index_search_btn_all\").click()"
   ]
  },
  {
   "cell_type": "code",
   "execution_count": 8,
   "metadata": {},
   "outputs": [],
   "source": [
    "#打开该省份热门景点一览\n",
    "time.sleep(1)\n",
    "driver.find_element_by_link_text(\"景点\").click()\n"
   ]
  },
  {
   "cell_type": "code",
   "execution_count": 9,
   "metadata": {},
   "outputs": [
    {
     "name": "stdout",
     "output_type": "stream",
     "text": [
      "[<selenium.webdriver.remote.webelement.WebElement (session=\"7a571c251f71641882abd900ba3dea12\", element=\"a7a1f0b3-1128-4280-86f3-6f16fdbdbb7d\")>, <selenium.webdriver.remote.webelement.WebElement (session=\"7a571c251f71641882abd900ba3dea12\", element=\"683f3806-28a4-44c3-a3a3-56d569225ea8\")>, <selenium.webdriver.remote.webelement.WebElement (session=\"7a571c251f71641882abd900ba3dea12\", element=\"6b00f4d0-132b-4512-aa52-a916ec3c414f\")>, <selenium.webdriver.remote.webelement.WebElement (session=\"7a571c251f71641882abd900ba3dea12\", element=\"5279476f-3afe-454b-bffb-4f3cf4bda253\")>, <selenium.webdriver.remote.webelement.WebElement (session=\"7a571c251f71641882abd900ba3dea12\", element=\"e7e6f705-79a4-43e4-ba9e-cae61fa26a25\")>, <selenium.webdriver.remote.webelement.WebElement (session=\"7a571c251f71641882abd900ba3dea12\", element=\"fd0135c9-be56-4288-b004-82451a4bf561\")>, <selenium.webdriver.remote.webelement.WebElement (session=\"7a571c251f71641882abd900ba3dea12\", element=\"9b4aacd5-9df7-4bf2-9f3a-fe12b2ca4639\")>, <selenium.webdriver.remote.webelement.WebElement (session=\"7a571c251f71641882abd900ba3dea12\", element=\"2bc99331-e716-40e0-942b-1d90521a4c2e\")>, <selenium.webdriver.remote.webelement.WebElement (session=\"7a571c251f71641882abd900ba3dea12\", element=\"cc2b4140-c063-46c7-a81a-e501752df071\")>, <selenium.webdriver.remote.webelement.WebElement (session=\"7a571c251f71641882abd900ba3dea12\", element=\"73217d64-2b42-45e3-bc36-90394327b391\")>, <selenium.webdriver.remote.webelement.WebElement (session=\"7a571c251f71641882abd900ba3dea12\", element=\"599ddb4c-468d-4e11-ae97-85da4042a618\")>, <selenium.webdriver.remote.webelement.WebElement (session=\"7a571c251f71641882abd900ba3dea12\", element=\"46ad4419-6db1-45f3-b0da-fff35cad4228\")>, <selenium.webdriver.remote.webelement.WebElement (session=\"7a571c251f71641882abd900ba3dea12\", element=\"0477d7c2-247f-453f-be4a-53765f7b610b\")>, <selenium.webdriver.remote.webelement.WebElement (session=\"7a571c251f71641882abd900ba3dea12\", element=\"90f15f79-3598-4cd1-9c05-668757a97720\")>, <selenium.webdriver.remote.webelement.WebElement (session=\"7a571c251f71641882abd900ba3dea12\", element=\"a0eaa006-02fd-4987-8e86-98ab392b0963\")>, <selenium.webdriver.remote.webelement.WebElement (session=\"7a571c251f71641882abd900ba3dea12\", element=\"5d32ee3f-f60d-48ae-b94a-adeca1daf962\")>, <selenium.webdriver.remote.webelement.WebElement (session=\"7a571c251f71641882abd900ba3dea12\", element=\"b36c13a8-17b6-48ac-9922-46749ec919f1\")>, <selenium.webdriver.remote.webelement.WebElement (session=\"7a571c251f71641882abd900ba3dea12\", element=\"70e6c576-8b39-487e-86a0-c73dfad608d4\")>, <selenium.webdriver.remote.webelement.WebElement (session=\"7a571c251f71641882abd900ba3dea12\", element=\"a2a16519-58e8-44e4-9f91-0c31542d6a5d\")>, <selenium.webdriver.remote.webelement.WebElement (session=\"7a571c251f71641882abd900ba3dea12\", element=\"5974e804-b29c-4122-800b-282d10c67bee\")>, <selenium.webdriver.remote.webelement.WebElement (session=\"7a571c251f71641882abd900ba3dea12\", element=\"cf61df9e-1b2b-49be-8886-06c384749b07\")>, <selenium.webdriver.remote.webelement.WebElement (session=\"7a571c251f71641882abd900ba3dea12\", element=\"5528bef4-59d2-43d6-8501-2995e70eef23\")>, <selenium.webdriver.remote.webelement.WebElement (session=\"7a571c251f71641882abd900ba3dea12\", element=\"081fb2af-9ca4-4ff7-b9ee-387c61b6af5b\")>, <selenium.webdriver.remote.webelement.WebElement (session=\"7a571c251f71641882abd900ba3dea12\", element=\"318c5da6-ff49-4975-bbc1-d1b5df401170\")>, <selenium.webdriver.remote.webelement.WebElement (session=\"7a571c251f71641882abd900ba3dea12\", element=\"3af66371-9196-4d80-ad1c-b970fb641367\")>, <selenium.webdriver.remote.webelement.WebElement (session=\"7a571c251f71641882abd900ba3dea12\", element=\"5acc7fa4-010c-4a2d-86ab-031263590314\")>, <selenium.webdriver.remote.webelement.WebElement (session=\"7a571c251f71641882abd900ba3dea12\", element=\"095d467a-1763-4007-a83c-51bd4bed45b3\")>, <selenium.webdriver.remote.webelement.WebElement (session=\"7a571c251f71641882abd900ba3dea12\", element=\"615d1a1e-d030-4654-b18c-e0986d318a4e\")>, <selenium.webdriver.remote.webelement.WebElement (session=\"7a571c251f71641882abd900ba3dea12\", element=\"99b35ada-3145-45e7-b64e-e64129e2e544\")>, <selenium.webdriver.remote.webelement.WebElement (session=\"7a571c251f71641882abd900ba3dea12\", element=\"9ab4d274-00ea-4ad7-ad6b-fde232400924\")>, <selenium.webdriver.remote.webelement.WebElement (session=\"7a571c251f71641882abd900ba3dea12\", element=\"c98b16fe-29b8-44e0-b32b-111ab394b614\")>, <selenium.webdriver.remote.webelement.WebElement (session=\"7a571c251f71641882abd900ba3dea12\", element=\"0efcaa02-5b02-40fc-ba73-2adf60dd36d2\")>, <selenium.webdriver.remote.webelement.WebElement (session=\"7a571c251f71641882abd900ba3dea12\", element=\"45ca9544-3499-4795-ac27-0c17c76f08ae\")>, <selenium.webdriver.remote.webelement.WebElement (session=\"7a571c251f71641882abd900ba3dea12\", element=\"10b46fcb-ceb2-4770-9463-bf02ee28b402\")>, <selenium.webdriver.remote.webelement.WebElement (session=\"7a571c251f71641882abd900ba3dea12\", element=\"5577d516-6954-4718-ac0b-fe008f6944f9\")>, <selenium.webdriver.remote.webelement.WebElement (session=\"7a571c251f71641882abd900ba3dea12\", element=\"35f16c58-a389-48c8-9246-695c84086ac5\")>, <selenium.webdriver.remote.webelement.WebElement (session=\"7a571c251f71641882abd900ba3dea12\", element=\"06be9137-7d17-44fc-ad9c-8936187b6c76\")>, <selenium.webdriver.remote.webelement.WebElement (session=\"7a571c251f71641882abd900ba3dea12\", element=\"2c26ca62-1116-456e-9bc0-1d7a60425e0e\")>, <selenium.webdriver.remote.webelement.WebElement (session=\"7a571c251f71641882abd900ba3dea12\", element=\"622e528e-1e8b-4c4e-92fc-cf808eb7cc9c\")>, <selenium.webdriver.remote.webelement.WebElement (session=\"7a571c251f71641882abd900ba3dea12\", element=\"57caffd0-47f5-4695-b981-1f278153feec\")>, <selenium.webdriver.remote.webelement.WebElement (session=\"7a571c251f71641882abd900ba3dea12\", element=\"ef9cb86e-e7b0-4004-8b81-4a1e74429344\")>, <selenium.webdriver.remote.webelement.WebElement (session=\"7a571c251f71641882abd900ba3dea12\", element=\"40a50202-9980-4402-9398-f972b500d5c3\")>, <selenium.webdriver.remote.webelement.WebElement (session=\"7a571c251f71641882abd900ba3dea12\", element=\"539dd597-842d-4b24-a692-ccc28bcd55cd\")>, <selenium.webdriver.remote.webelement.WebElement (session=\"7a571c251f71641882abd900ba3dea12\", element=\"5cddc59b-3b96-4c0e-9995-9fd7cc13e74c\")>, <selenium.webdriver.remote.webelement.WebElement (session=\"7a571c251f71641882abd900ba3dea12\", element=\"e1ec01be-9c01-421d-be49-d5b1838db8fc\")>, <selenium.webdriver.remote.webelement.WebElement (session=\"7a571c251f71641882abd900ba3dea12\", element=\"4ec477d1-f2ef-4db5-b1ef-900c93b5c164\")>, <selenium.webdriver.remote.webelement.WebElement (session=\"7a571c251f71641882abd900ba3dea12\", element=\"8533bd25-7468-4e57-a1da-53d157c0a0a9\")>, <selenium.webdriver.remote.webelement.WebElement (session=\"7a571c251f71641882abd900ba3dea12\", element=\"03eec6de-fd4a-44fb-bf09-0d17bd8dc24b\")>, <selenium.webdriver.remote.webelement.WebElement (session=\"7a571c251f71641882abd900ba3dea12\", element=\"d9259763-a6ab-4fea-a854-b6b43f241f3f\")>, <selenium.webdriver.remote.webelement.WebElement (session=\"7a571c251f71641882abd900ba3dea12\", element=\"53637537-3c89-4a83-83f0-e5737ceb9ba0\")>, <selenium.webdriver.remote.webelement.WebElement (session=\"7a571c251f71641882abd900ba3dea12\", element=\"7988e731-9964-4cca-b1b8-3dbf6a9feb65\")>, <selenium.webdriver.remote.webelement.WebElement (session=\"7a571c251f71641882abd900ba3dea12\", element=\"afb297e7-2291-49ae-9f8f-589e48c70a64\")>, <selenium.webdriver.remote.webelement.WebElement (session=\"7a571c251f71641882abd900ba3dea12\", element=\"adcaced3-d32d-4ecb-86ea-99c9a607faa3\")>, <selenium.webdriver.remote.webelement.WebElement (session=\"7a571c251f71641882abd900ba3dea12\", element=\"834473bf-0814-4377-b998-774d6849d5c3\")>, <selenium.webdriver.remote.webelement.WebElement (session=\"7a571c251f71641882abd900ba3dea12\", element=\"e82c18e8-7547-404d-a7dc-94832ea3cdff\")>, <selenium.webdriver.remote.webelement.WebElement (session=\"7a571c251f71641882abd900ba3dea12\", element=\"b192a158-0fe5-4df1-acfa-8cc97197eff7\")>, <selenium.webdriver.remote.webelement.WebElement (session=\"7a571c251f71641882abd900ba3dea12\", element=\"fc53466f-422a-4992-9715-0a6ca34fb386\")>, <selenium.webdriver.remote.webelement.WebElement (session=\"7a571c251f71641882abd900ba3dea12\", element=\"c0ca3ff9-ed23-447d-b486-abefb0206b6e\")>, <selenium.webdriver.remote.webelement.WebElement (session=\"7a571c251f71641882abd900ba3dea12\", element=\"f3cbbea8-290d-434e-899f-a98a5d3e1045\")>, <selenium.webdriver.remote.webelement.WebElement (session=\"7a571c251f71641882abd900ba3dea12\", element=\"fd2afe1a-aab5-4153-bfb8-1f236d58ae9d\")>, <selenium.webdriver.remote.webelement.WebElement (session=\"7a571c251f71641882abd900ba3dea12\", element=\"12803adc-46f9-4550-82d5-67af5e278c38\")>, <selenium.webdriver.remote.webelement.WebElement (session=\"7a571c251f71641882abd900ba3dea12\", element=\"0b5a7f15-2f55-48c4-8d75-78d59ed0c437\")>, <selenium.webdriver.remote.webelement.WebElement (session=\"7a571c251f71641882abd900ba3dea12\", element=\"12daab56-7470-45a8-8377-fa8a4ff028be\")>, <selenium.webdriver.remote.webelement.WebElement (session=\"7a571c251f71641882abd900ba3dea12\", element=\"37c8d5f3-3689-44fa-a67d-53277563c46b\")>, <selenium.webdriver.remote.webelement.WebElement (session=\"7a571c251f71641882abd900ba3dea12\", element=\"b60e7f20-5af0-466d-a019-6052c6fef516\")>, <selenium.webdriver.remote.webelement.WebElement (session=\"7a571c251f71641882abd900ba3dea12\", element=\"3758bf91-6d1f-4ab3-b9fa-9470d0a62846\")>, <selenium.webdriver.remote.webelement.WebElement (session=\"7a571c251f71641882abd900ba3dea12\", element=\"487daa44-9cd1-48d7-9c51-72754ba77e85\")>, <selenium.webdriver.remote.webelement.WebElement (session=\"7a571c251f71641882abd900ba3dea12\", element=\"3eb73e74-469c-4a07-8b69-52e1f23a6951\")>, <selenium.webdriver.remote.webelement.WebElement (session=\"7a571c251f71641882abd900ba3dea12\", element=\"ec44e3e5-7561-437b-9bcb-f1d95f8a60ee\")>, <selenium.webdriver.remote.webelement.WebElement (session=\"7a571c251f71641882abd900ba3dea12\", element=\"d2812fc6-9be5-4576-8447-ce0702e81a91\")>, <selenium.webdriver.remote.webelement.WebElement (session=\"7a571c251f71641882abd900ba3dea12\", element=\"a52f7eb0-d0cc-4d8f-897e-a8d7215d06f2\")>, <selenium.webdriver.remote.webelement.WebElement (session=\"7a571c251f71641882abd900ba3dea12\", element=\"3357b596-7a14-4dcf-869f-28e7c86c6dc1\")>, <selenium.webdriver.remote.webelement.WebElement (session=\"7a571c251f71641882abd900ba3dea12\", element=\"e8c4317f-d9e9-42b4-822c-07ef1486bc74\")>, <selenium.webdriver.remote.webelement.WebElement (session=\"7a571c251f71641882abd900ba3dea12\", element=\"0315be69-cdeb-4786-ae84-5556bb3fc226\")>, <selenium.webdriver.remote.webelement.WebElement (session=\"7a571c251f71641882abd900ba3dea12\", element=\"0665675c-4c67-4444-ba19-b9f1a5e135e7\")>, <selenium.webdriver.remote.webelement.WebElement (session=\"7a571c251f71641882abd900ba3dea12\", element=\"5c0f538b-6cad-4309-8449-2f7c5239cea1\")>, <selenium.webdriver.remote.webelement.WebElement (session=\"7a571c251f71641882abd900ba3dea12\", element=\"5884b1e6-49de-499d-8f22-af5a24a86602\")>, <selenium.webdriver.remote.webelement.WebElement (session=\"7a571c251f71641882abd900ba3dea12\", element=\"7c519f44-8f07-4a1a-ab4c-2e4d5348e2eb\")>, <selenium.webdriver.remote.webelement.WebElement (session=\"7a571c251f71641882abd900ba3dea12\", element=\"f1f29ed3-013b-4077-8b30-c45d406d643a\")>, <selenium.webdriver.remote.webelement.WebElement (session=\"7a571c251f71641882abd900ba3dea12\", element=\"badab150-5486-4488-9bab-7be2a2af2125\")>, <selenium.webdriver.remote.webelement.WebElement (session=\"7a571c251f71641882abd900ba3dea12\", element=\"22ced678-d97b-4133-b61b-bcf098841043\")>, <selenium.webdriver.remote.webelement.WebElement (session=\"7a571c251f71641882abd900ba3dea12\", element=\"3ddd27ec-c931-4691-b66f-34f0915cf88a\")>, <selenium.webdriver.remote.webelement.WebElement (session=\"7a571c251f71641882abd900ba3dea12\", element=\"c476a2d7-f9ef-43c2-be6f-8d72706588a3\")>, <selenium.webdriver.remote.webelement.WebElement (session=\"7a571c251f71641882abd900ba3dea12\", element=\"4d4014a7-56a8-4883-905b-b012604cd1bb\")>, <selenium.webdriver.remote.webelement.WebElement (session=\"7a571c251f71641882abd900ba3dea12\", element=\"a526e04f-98fc-4f33-8545-3c0802288305\")>, <selenium.webdriver.remote.webelement.WebElement (session=\"7a571c251f71641882abd900ba3dea12\", element=\"953fe4e6-f707-478e-be66-a7ce8cccc13b\")>, <selenium.webdriver.remote.webelement.WebElement (session=\"7a571c251f71641882abd900ba3dea12\", element=\"4624c035-b4f1-4730-83d4-7c3ef7c679b9\")>, <selenium.webdriver.remote.webelement.WebElement (session=\"7a571c251f71641882abd900ba3dea12\", element=\"ac66fb1b-258a-4b08-84f0-b3a4182401b0\")>, <selenium.webdriver.remote.webelement.WebElement (session=\"7a571c251f71641882abd900ba3dea12\", element=\"2fdf213b-6223-492e-9477-4a923dba730a\")>, <selenium.webdriver.remote.webelement.WebElement (session=\"7a571c251f71641882abd900ba3dea12\", element=\"011fd4b7-e0ef-4dea-a32d-b44d65c314c2\")>, <selenium.webdriver.remote.webelement.WebElement (session=\"7a571c251f71641882abd900ba3dea12\", element=\"1ac999f8-a126-42cb-88b2-8da1ce9eea26\")>, <selenium.webdriver.remote.webelement.WebElement (session=\"7a571c251f71641882abd900ba3dea12\", element=\"3a30db5d-82dc-432b-9251-589ed3757845\")>, <selenium.webdriver.remote.webelement.WebElement (session=\"7a571c251f71641882abd900ba3dea12\", element=\"513d4157-7089-456e-8d9b-43194ddb62ce\")>, <selenium.webdriver.remote.webelement.WebElement (session=\"7a571c251f71641882abd900ba3dea12\", element=\"2dd7c0c0-b0f1-4b1c-b0d1-ff8e8ccce7e5\")>, <selenium.webdriver.remote.webelement.WebElement (session=\"7a571c251f71641882abd900ba3dea12\", element=\"203149aa-13cf-40ec-8152-959060fee12c\")>, <selenium.webdriver.remote.webelement.WebElement (session=\"7a571c251f71641882abd900ba3dea12\", element=\"2151095d-3b07-4eed-a32d-47f1eb8b86c6\")>, <selenium.webdriver.remote.webelement.WebElement (session=\"7a571c251f71641882abd900ba3dea12\", element=\"17d7f45b-899f-4343-9779-4982e62df558\")>, <selenium.webdriver.remote.webelement.WebElement (session=\"7a571c251f71641882abd900ba3dea12\", element=\"e469c77a-d449-415e-8341-f36582289bf0\")>, <selenium.webdriver.remote.webelement.WebElement (session=\"7a571c251f71641882abd900ba3dea12\", element=\"99b6b59d-5e0a-46c3-a630-4b13f7dc259b\")>, <selenium.webdriver.remote.webelement.WebElement (session=\"7a571c251f71641882abd900ba3dea12\", element=\"f4971b2a-6b3f-4d64-b054-216a4a353e1a\")>, <selenium.webdriver.remote.webelement.WebElement (session=\"7a571c251f71641882abd900ba3dea12\", element=\"86c0c5f2-ab1e-4bf8-94d7-04feca1b636e\")>, <selenium.webdriver.remote.webelement.WebElement (session=\"7a571c251f71641882abd900ba3dea12\", element=\"1ec162cd-5580-42f3-af92-7bb9886bbc1f\")>, <selenium.webdriver.remote.webelement.WebElement (session=\"7a571c251f71641882abd900ba3dea12\", element=\"0d8badb1-df14-4f46-8de0-baeefcd190a4\")>, <selenium.webdriver.remote.webelement.WebElement (session=\"7a571c251f71641882abd900ba3dea12\", element=\"b6ef84cb-6cba-47e2-88d7-e336ed48a8a6\")>, <selenium.webdriver.remote.webelement.WebElement (session=\"7a571c251f71641882abd900ba3dea12\", element=\"d9a0117a-c165-4653-aa6e-a3c71f171096\")>, <selenium.webdriver.remote.webelement.WebElement (session=\"7a571c251f71641882abd900ba3dea12\", element=\"465e1b7c-6e0a-422b-b922-a95b958d7301\")>, <selenium.webdriver.remote.webelement.WebElement (session=\"7a571c251f71641882abd900ba3dea12\", element=\"28b033e3-1d53-41b3-8052-0cf72c76586b\")>, <selenium.webdriver.remote.webelement.WebElement (session=\"7a571c251f71641882abd900ba3dea12\", element=\"95aa0f7b-6ca5-41aa-a236-1f01448d6b63\")>, <selenium.webdriver.remote.webelement.WebElement (session=\"7a571c251f71641882abd900ba3dea12\", element=\"7a713775-3664-46f3-be19-6f319c2a8e6f\")>, <selenium.webdriver.remote.webelement.WebElement (session=\"7a571c251f71641882abd900ba3dea12\", element=\"b1fa0e53-6a60-4447-9e96-157c051efc07\")>, <selenium.webdriver.remote.webelement.WebElement (session=\"7a571c251f71641882abd900ba3dea12\", element=\"413436da-2ec2-4d9b-a507-05601f2fa4e6\")>, <selenium.webdriver.remote.webelement.WebElement (session=\"7a571c251f71641882abd900ba3dea12\", element=\"0e8b1506-1c1a-4e78-b5ae-38d54ec7d7e2\")>, <selenium.webdriver.remote.webelement.WebElement (session=\"7a571c251f71641882abd900ba3dea12\", element=\"cb2d85da-3e64-4752-a4d3-3891b6750ecf\")>, <selenium.webdriver.remote.webelement.WebElement (session=\"7a571c251f71641882abd900ba3dea12\", element=\"e4fc125d-d37b-425d-84e5-07dd687cb682\")>, <selenium.webdriver.remote.webelement.WebElement (session=\"7a571c251f71641882abd900ba3dea12\", element=\"e31c7c9c-65ff-4275-bc8b-5c50308ba9af\")>, <selenium.webdriver.remote.webelement.WebElement (session=\"7a571c251f71641882abd900ba3dea12\", element=\"9e520a2b-f5b3-43e1-a876-6de28161ccbb\")>, <selenium.webdriver.remote.webelement.WebElement (session=\"7a571c251f71641882abd900ba3dea12\", element=\"f261e127-a843-4d83-9f82-94fbd3954b8b\")>, <selenium.webdriver.remote.webelement.WebElement (session=\"7a571c251f71641882abd900ba3dea12\", element=\"3a22f72c-3904-462a-8e58-b1867df8453b\")>, <selenium.webdriver.remote.webelement.WebElement (session=\"7a571c251f71641882abd900ba3dea12\", element=\"209121b7-f045-4c26-b727-2af9ccfdefbf\")>, <selenium.webdriver.remote.webelement.WebElement (session=\"7a571c251f71641882abd900ba3dea12\", element=\"f6bd2b57-ca5f-41a4-a133-0795b8b2f499\")>, <selenium.webdriver.remote.webelement.WebElement (session=\"7a571c251f71641882abd900ba3dea12\", element=\"c373238e-2a41-465c-82e1-781b9a10d332\")>, <selenium.webdriver.remote.webelement.WebElement (session=\"7a571c251f71641882abd900ba3dea12\", element=\"85770b9e-2ac7-489d-9eb7-710ccffa4469\")>, <selenium.webdriver.remote.webelement.WebElement (session=\"7a571c251f71641882abd900ba3dea12\", element=\"a37f19b7-ce46-432e-93cb-16c611e7ebf4\")>, <selenium.webdriver.remote.webelement.WebElement (session=\"7a571c251f71641882abd900ba3dea12\", element=\"f701bb9e-0451-40d9-bb48-2b9124561748\")>, <selenium.webdriver.remote.webelement.WebElement (session=\"7a571c251f71641882abd900ba3dea12\", element=\"bb4df6d9-21ec-4aaa-b2fc-c459f7a7576d\")>]\n"
     ]
    }
   ],
   "source": [
    "#\n",
    "time.sleep(1)\n",
    "ret=driver.find_element_by_link_text(\"景点\")\n",
    "print(ret)\n",
    "ret[1].click()"
   ]
  },
  {
   "cell_type": "code",
   "execution_count": null,
   "metadata": {},
   "outputs": [],
   "source": [
    "time.sleep(5)\n",
    "driver.close()"
   ]
  }
 ],
 "metadata": {
  "kernelspec": {
   "display_name": "Python 3",
   "language": "python",
   "name": "python3"
  },
  "language_info": {
   "codemirror_mode": {
    "name": "ipython",
    "version": 3
   },
   "file_extension": ".py",
   "mimetype": "text/x-python",
   "name": "python",
   "nbconvert_exporter": "python",
   "pygments_lexer": "ipython3",
   "version": "3.7.5"
  }
 },
 "nbformat": 4,
 "nbformat_minor": 2
}
